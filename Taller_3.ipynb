{
  "nbformat": 4,
  "nbformat_minor": 0,
  "metadata": {
    "colab": {
      "provenance": [],
      "authorship_tag": "ABX9TyO6A5t8ISaFeiy6cwfEUv6b",
      "include_colab_link": true
    },
    "kernelspec": {
      "name": "python3",
      "display_name": "Python 3"
    },
    "language_info": {
      "name": "python"
    }
  },
  "cells": [
    {
      "cell_type": "markdown",
      "metadata": {
        "id": "view-in-github",
        "colab_type": "text"
      },
      "source": [
        "<a href=\"https://colab.research.google.com/github/josesuarez2424/Prog_Alg_Taller_3/blob/main/Taller_3.ipynb\" target=\"_parent\"><img src=\"https://colab.research.google.com/assets/colab-badge.svg\" alt=\"Open In Colab\"/></a>"
      ]
    },
    {
      "cell_type": "markdown",
      "source": [
        "# calcular la distancia entre 2 puntos"
      ],
      "metadata": {
        "id": "A9hXB5FnpnY5"
      }
    },
    {
      "cell_type": "code",
      "source": [
        "x1=float(input(\"digitar la coordenada x del primer punto\"))\n",
        "y1=float(input(\"digitar la coordenada y del primer punto\"))\n",
        "x2=float(input(\"digitar la coordenada x del segundo punto\"))\n",
        "y2=float(input(\"digitar la coordenada  del segundo punto\"))\n",
        "\n",
        "D=float(((x1-y2 )*2 + (y2 - y1)*2)*1/2)\n",
        "\n",
        "\n",
        "print((\"la distancia entre los dos puntos es,\"),D)"
      ],
      "metadata": {
        "colab": {
          "base_uri": "https://localhost:8080/"
        },
        "id": "SkqpLENnqSrB",
        "outputId": "4ad12afc-01c0-48cb-9d95-78479ecd4943"
      },
      "execution_count": 12,
      "outputs": [
        {
          "output_type": "stream",
          "name": "stdout",
          "text": [
            "digitar la coordenada x del primer punto1\n",
            "digitar la coordenada y del primer punto2\n",
            "digitar la coordenada x del segundo punto5\n",
            "digitar la coordenada  del segundo punto8\n",
            "la distancia entre los dos puntos es, -1.0\n"
          ]
        }
      ]
    },
    {
      "cell_type": "markdown",
      "source": [
        "# calcular la posicion de una particula"
      ],
      "metadata": {
        "id": "5cFtqLkoqhxS"
      }
    },
    {
      "cell_type": "code",
      "source": [
        "\n",
        "X0 = float(input(\"escriba la posicion inicial\"))\n",
        "V0 = float(input(\"escriba la velocidad inicial\"))\n",
        "t = float(input(\"escriba el tiempo\"))\n",
        "a = float(input(\"escriba la aceleracion\"))\n",
        "\n",
        "X = X0 + V0*t + 0.5 + (a*(t**2))\n",
        "\n",
        "V0 = 16\n",
        "X0 = 20\n",
        "t = 8.5\n",
        "a = 6\n",
        "\n",
        "print(\"la posicion de una particula\", X)"
      ],
      "metadata": {
        "colab": {
          "base_uri": "https://localhost:8080/"
        },
        "id": "PZE-JEnJqsZB",
        "outputId": "535e106d-0a03-4147-a51d-d36b74994308"
      },
      "execution_count": 16,
      "outputs": [
        {
          "output_type": "stream",
          "name": "stdout",
          "text": [
            "escriba la posicion inicial20\n",
            "escriba la velocidad inicial16\n",
            "escriba el tiempo8.5\n",
            "escriba la aceleracion6\n",
            "la posicion de una particula 590.0\n"
          ]
        }
      ]
    },
    {
      "cell_type": "markdown",
      "source": [
        "# calcular el volumen de un cilindro"
      ],
      "metadata": {
        "id": "WKCvcDapsvyJ"
      }
    },
    {
      "cell_type": "code",
      "source": [
        "r = float(input(\"escriba el radio\"))\n",
        "h = float(input(\"escriba la altura\"))\n",
        "\n",
        "\n",
        "V = 3.141592*r**2*h\n",
        "\n",
        "print(\"el volumen de un cilindro\", V)\n",
        "\n"
      ],
      "metadata": {
        "colab": {
          "base_uri": "https://localhost:8080/"
        },
        "id": "uYRPtUTbtDPC",
        "outputId": "5a4b014a-54db-4a29-89b7-17ebceb81652"
      },
      "execution_count": 17,
      "outputs": [
        {
          "output_type": "stream",
          "name": "stdout",
          "text": [
            "escriba el radio6\n",
            "escriba la altura15\n",
            "el volumen de un cilindro 1696.45968\n"
          ]
        }
      ]
    },
    {
      "cell_type": "markdown",
      "source": [
        "# calcular las siguientes operaciones"
      ],
      "metadata": {
        "id": "siRn22A1wz5c"
      }
    },
    {
      "cell_type": "code",
      "source": [
        "A = 10/2\n",
        "B = 5/8\n",
        "D = 3/8\n",
        "\n",
        "A>B , B>D\n"
      ],
      "metadata": {
        "colab": {
          "base_uri": "https://localhost:8080/"
        },
        "id": "EuFIlfkFw9kk",
        "outputId": "d1552e87-0d0f-4456-f630-6803f62c1a5e"
      },
      "execution_count": 26,
      "outputs": [
        {
          "output_type": "execute_result",
          "data": {
            "text/plain": [
              "(True, True)"
            ]
          },
          "metadata": {},
          "execution_count": 26
        }
      ]
    },
    {
      "cell_type": "code",
      "source": [
        "B = 5/8\n",
        "C = 5/8\n",
        "D = 11/2\n",
        "\n",
        "B<=C , C<D"
      ],
      "metadata": {
        "colab": {
          "base_uri": "https://localhost:8080/"
        },
        "id": "kxe4u95IzGm0",
        "outputId": "3df93e5d-156e-4cd2-caf2-5695b8105c05"
      },
      "execution_count": 27,
      "outputs": [
        {
          "output_type": "execute_result",
          "data": {
            "text/plain": [
              "(True, True)"
            ]
          },
          "metadata": {},
          "execution_count": 27
        }
      ]
    },
    {
      "cell_type": "code",
      "source": [
        "A = 1/2\n",
        "B = 1/2\n",
        "C = 2/5\n",
        "\n",
        "A=B , B>C"
      ],
      "metadata": {
        "id": "bsg66Guez8A9"
      },
      "execution_count": 38,
      "outputs": []
    },
    {
      "cell_type": "code",
      "source": [
        "A = 3/2\n",
        "B = 8/3\n",
        "C = 10/3\n",
        "\n",
        "A<C , B<C"
      ],
      "metadata": {
        "colab": {
          "base_uri": "https://localhost:8080/"
        },
        "id": "94DF7LHv0fW9",
        "outputId": "d4b93b7c-a77b-4042-8e1d-0f730b36a02b"
      },
      "execution_count": 37,
      "outputs": [
        {
          "output_type": "execute_result",
          "data": {
            "text/plain": [
              "(True, True)"
            ]
          },
          "metadata": {},
          "execution_count": 37
        }
      ]
    },
    {
      "cell_type": "code",
      "source": [
        "A = 3/2\n",
        "B = 25/4\n",
        "C = 13/3\n",
        "D = 1/2\n",
        "\n",
        "A + D < C , B > 5"
      ],
      "metadata": {
        "colab": {
          "base_uri": "https://localhost:8080/"
        },
        "id": "jjN2cY7I1nVH",
        "outputId": "792e2c8e-2256-44f1-d36b-d752773d2304"
      },
      "execution_count": 39,
      "outputs": [
        {
          "output_type": "execute_result",
          "data": {
            "text/plain": [
              "(True, True)"
            ]
          },
          "metadata": {},
          "execution_count": 39
        }
      ]
    },
    {
      "cell_type": "code",
      "source": [
        "A = -6/5\n",
        "B = 1/2\n",
        "C = 7/3\n",
        "D = 8/2\n",
        "\n",
        "D - C >= -A * B"
      ],
      "metadata": {
        "colab": {
          "base_uri": "https://localhost:8080/"
        },
        "id": "zjhU6lJ-2veU",
        "outputId": "c7710bb3-20b7-4234-fb29-00d26f85a6df"
      },
      "execution_count": 41,
      "outputs": [
        {
          "output_type": "execute_result",
          "data": {
            "text/plain": [
              "True"
            ]
          },
          "metadata": {},
          "execution_count": 41
        }
      ]
    },
    {
      "cell_type": "code",
      "source": [
        "A = 25/3\n",
        "B =10/4\n",
        "C = 10/4\n",
        "D= 2\n",
        "\n",
        "D * C == 5 , C * A > 9"
      ],
      "metadata": {
        "colab": {
          "base_uri": "https://localhost:8080/"
        },
        "id": "PfxCAaew5Un3",
        "outputId": "5fe5cbe5-0575-41bb-f83d-7c849af408ea"
      },
      "execution_count": 42,
      "outputs": [
        {
          "output_type": "execute_result",
          "data": {
            "text/plain": [
              "(True, True)"
            ]
          },
          "metadata": {},
          "execution_count": 42
        }
      ]
    },
    {
      "cell_type": "code",
      "source": [
        "A = 20/4\n",
        "B = 15/3\n",
        "C = 20/5\n",
        "D = -7/5\n",
        "\n",
        "A * B + C > -D * 10"
      ],
      "metadata": {
        "colab": {
          "base_uri": "https://localhost:8080/"
        },
        "id": "7jsWi-Fb8Gqg",
        "outputId": "99a74515-beb5-4d2c-8b9d-539392bdcb38"
      },
      "execution_count": 44,
      "outputs": [
        {
          "output_type": "execute_result",
          "data": {
            "text/plain": [
              "True"
            ]
          },
          "metadata": {},
          "execution_count": 44
        }
      ]
    },
    {
      "cell_type": "markdown",
      "source": [],
      "metadata": {
        "id": "VT76RqDhkJvG"
      }
    },
    {
      "cell_type": "markdown",
      "source": [],
      "metadata": {
        "id": "pwaykxMGkJDf"
      }
    }
  ]
}